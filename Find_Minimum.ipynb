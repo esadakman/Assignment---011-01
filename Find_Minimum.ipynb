{
 "cells": [
  {
   "cell_type": "markdown",
   "metadata": {},
   "source": [
    "# Find Minimum\n",
    "Define a function named my_min to find the min of the inputted numbers."
   ]
  },
  {
   "cell_type": "code",
   "execution_count": 1,
   "metadata": {},
   "outputs": [],
   "source": [
    "def my_min(* arg):\n",
    "    num = list(arg)\n",
    "    max = num [0]\n",
    "    min = num [0]\n",
    "    for i in num:\n",
    "        if i > max :\n",
    "            max = i\n",
    "        elif i < min:\n",
    "            min = i\n",
    "    return min\n",
    "    "
   ]
  },
  {
   "cell_type": "code",
   "execution_count": 2,
   "metadata": {},
   "outputs": [
    {
     "name": "stdout",
     "output_type": "stream",
     "text": [
      "-9\n"
     ]
    }
   ],
   "source": [
    "print(my_min(3,8,-9,0,12,1.2))"
   ]
  }
 ],
 "metadata": {
  "interpreter": {
   "hash": "35cf74722583059c87b9403a5ac155edf7f27e486a60c973b9f356bc9771dbae"
  },
  "kernelspec": {
   "display_name": "Python 3.10.2 64-bit",
   "language": "python",
   "name": "python3"
  },
  "language_info": {
   "codemirror_mode": {
    "name": "ipython",
    "version": 3
   },
   "file_extension": ".py",
   "mimetype": "text/x-python",
   "name": "python",
   "nbconvert_exporter": "python",
   "pygments_lexer": "ipython3",
   "version": "3.10.2"
  },
  "orig_nbformat": 4
 },
 "nbformat": 4,
 "nbformat_minor": 2
}
