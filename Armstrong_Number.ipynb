{
 "cells": [
  {
   "cell_type": "markdown",
   "metadata": {},
   "source": [
    "<b>Task:</b> \n",
    "Find out if a given number is an \"Armstrong Number\". <br>\n",
    "\n",
    "An n-digit number that is the sum of the nth powers of its digits is called an n-Armstrong number. Examples :\n",
    "<ol>\n",
    "<li>371 = 33 + 73 + 13;</li>\n",
    "<li>9474 = 94 + 44 + 74 + 44;</li>\n",
    "<li>93084 = 95 + 35 + 05 + 85 + 45.</li>\n",
    "</ol> \n",
    "\n",
    "Write a Python program that;\n",
    "<ol> \n",
    "<li>takes a positive integer number from the user,</li>\n",
    "<li>checks the entered number if it is Armstrong,</li>\n",
    "<li>consider the negative, float and any entries other than numeric values then display a warning message to the user.</li>\n",
    "</ol> "
   ]
  },
  {
   "cell_type": "code",
   "execution_count": 4,
   "metadata": {},
   "outputs": [
    {
     "name": "stdout",
     "output_type": "stream",
     "text": [
      "5 is an Armstrong number\n"
     ]
    }
   ],
   "source": [
    "number = input(\"Please enter an integer number: \")\n",
    "power = len(number)\n",
    "sonuc = 0\n",
    "if number.startswith(\"-\") or \".\" in number or \",\" in number or (not number.isdigit()):\n",
    "    print(\"It is an invalid entry. please enter an integer number\")\n",
    "else:\n",
    "    for i in number:\n",
    "        sonuc += int(i) ** power\n",
    "    if int(number) == sonuc:\n",
    "        print(number + \" is an Armstrong number\")\n",
    "    else:\n",
    "        print(number + \" is not an Armstrong number\")"
   ]
  },
  {
   "cell_type": "code",
   "execution_count": null,
   "metadata": {},
   "outputs": [],
   "source": []
  }
 ],
 "metadata": {
  "interpreter": {
   "hash": "35cf74722583059c87b9403a5ac155edf7f27e486a60c973b9f356bc9771dbae"
  },
  "kernelspec": {
   "display_name": "Python 3.10.2 64-bit",
   "language": "python",
   "name": "python3"
  },
  "language_info": {
   "codemirror_mode": {
    "name": "ipython",
    "version": 3
   },
   "file_extension": ".py",
   "mimetype": "text/x-python",
   "name": "python",
   "nbconvert_exporter": "python",
   "pygments_lexer": "ipython3",
   "version": "3.10.2"
  },
  "orig_nbformat": 4
 },
 "nbformat": 4,
 "nbformat_minor": 2
}
