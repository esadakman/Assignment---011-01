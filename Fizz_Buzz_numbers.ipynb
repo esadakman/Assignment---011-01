{
 "cells": [
  {
   "cell_type": "markdown",
   "metadata": {},
   "source": [
    "<b>Task:</b> Print numbers from 1 to 100 inclusively following these instructions: <br>\n",
    "if a number is multiple of 3, print \"Fizz\" instead of this number,<br>\n",
    "if a number is multiple of 5, print \"Buzz\" instead of this number,<br>\n",
    "for numbers that are multiples of both 3 and 5, print \"FizzBuzz\",<br>\n",
    "print the rest of the numbers unchanged."
   ]
  },
  {
   "cell_type": "code",
   "execution_count": 2,
   "metadata": {},
   "outputs": [],
   "source": [
    "def fizz_buzz(x):\n",
    "    if x % 15 == 0:\n",
    "        return (\"FizzBuzz\")\n",
    "    elif x % 3 == 0:\n",
    "        return (\"Fizz\")    \n",
    "    elif x % 5 == 0:\n",
    "        return (\"Buzz\")\n",
    "\n",
    "    else:\n",
    "        return (x)"
   ]
  },
  {
   "cell_type": "code",
   "execution_count": 3,
   "metadata": {},
   "outputs": [
    {
     "data": {
      "text/plain": [
       "'FizzBuzz'"
      ]
     },
     "execution_count": 3,
     "metadata": {},
     "output_type": "execute_result"
    }
   ],
   "source": [
    "fizz_buzz(30)"
   ]
  }
 ],
 "metadata": {
  "interpreter": {
   "hash": "35cf74722583059c87b9403a5ac155edf7f27e486a60c973b9f356bc9771dbae"
  },
  "kernelspec": {
   "display_name": "Python 3.10.2 64-bit",
   "language": "python",
   "name": "python3"
  },
  "language_info": {
   "codemirror_mode": {
    "name": "ipython",
    "version": 3
   },
   "file_extension": ".py",
   "mimetype": "text/x-python",
   "name": "python",
   "nbconvert_exporter": "python",
   "pygments_lexer": "ipython3",
   "version": "3.10.2"
  },
  "orig_nbformat": 4
 },
 "nbformat": 4,
 "nbformat_minor": 2
}
