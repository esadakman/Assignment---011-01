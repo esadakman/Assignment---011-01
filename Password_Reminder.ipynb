{
 "cells": [
  {
   "cell_type": "markdown",
   "metadata": {},
   "source": [
    "<b>Task:</b> \n",
    "Let's say; you left a message in the past that prints a password you need. To see the password you wrote, you need to enter your <b>name</b> and the program should recognize you. <br>\n",
    "\n",
    "Write a program that \n",
    "\n",
    "<ol> \n",
    "<li>Takes the first name from the user and compares it to yours,</li>\n",
    "<li>Then if the name the user entered is the same as yours, print out such as : \"Hello, Joseph! The password is : W@12\",</li>\n",
    "<li>If the name the user entered is not the same as yours, print out such as : \"Hello, Amina! See you later.\"</li>\n",
    "</ol> "
   ]
  },
  {
   "cell_type": "code",
   "execution_count": null,
   "metadata": {},
   "outputs": [],
   "source": [
    "name = 'Joseph'\n",
    "msg = input(\"What's your name ?\")\n",
    "if msg == name:\n",
    "    print(\"Hello, Joseph! The password is : W@12\")\n",
    "else:\n",
    "    print(\"Hello, {}! See you later.\".format(msg))"
   ]
  }
 ],
 "metadata": {
  "language_info": {
   "name": "python"
  },
  "orig_nbformat": 4
 },
 "nbformat": 4,
 "nbformat_minor": 2
}
