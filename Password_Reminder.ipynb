{
 "cells": [
  {
   "cell_type": "code",
   "execution_count": null,
   "metadata": {},
   "outputs": [],
   "source": [
    "name = 'Joseph'\n",
    "msg = input(\"What's your name ?\")\n",
    "if msg == name:\n",
    "    print(\"Hello, Joseph! The password is : W@12\")\n",
    "else:\n",
    "    print(\"Hello, {}! See you later.\".format(msg))"
   ]
  }
 ],
 "metadata": {
  "language_info": {
   "name": "python"
  },
  "orig_nbformat": 4
 },
 "nbformat": 4,
 "nbformat_minor": 2
}
